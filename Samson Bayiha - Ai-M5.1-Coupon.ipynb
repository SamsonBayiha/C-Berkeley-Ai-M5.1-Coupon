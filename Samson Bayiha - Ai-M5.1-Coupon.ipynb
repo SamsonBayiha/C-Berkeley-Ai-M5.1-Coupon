{
 "cells": [
  {
   "cell_type": "markdown",
   "metadata": {},
   "source": [
    "### Will a Customer Accept the Coupon?\n",
    "\n",
    "**Context**\n",
    "\n",
    "Imagine driving through town and a coupon is delivered to your cell phone for a restaraunt near where you are driving. Would you accept that coupon and take a short detour to the restaraunt? Would you accept the coupon but use it on a sunbsequent trip? Would you ignore the coupon entirely? What if the coupon was for a bar instead of a restaraunt? What about a coffee house? Would you accept a bar coupon with a minor passenger in the car? What about if it was just you and your partner in the car? Would weather impact the rate of acceptance? What about the time of day?\n",
    "\n",
    "Obviously, proximity to the business is a factor on whether the coupon is delivered to the driver or not, but what are the factors that determine whether a driver accepts the coupon once it is delivered to them? How would you determine whether a driver is likely to accept a coupon?\n",
    "\n",
    "**Overview**\n",
    "\n",
    "The goal of this project is to use what you know about visualizations and probability distributions to distinguish between customers who accepted a driving coupon versus those that did not.\n",
    "\n",
    "**Data**\n",
    "\n",
    "This data comes to us from the UCI Machine Learning repository and was collected via a survey on Amazon Mechanical Turk. The survey describes different driving scenarios including the destination, current time, weather, passenger, etc., and then ask the person whether he will accept the coupon if he is the driver. Answers that the user will drive there ‘right away’ or ‘later before the coupon expires’ are labeled as ‘Y = 1’ and answers ‘no, I do not want the coupon’ are labeled as ‘Y = 0’.  There are five different types of coupons -- less expensive restaurants (under \\\\$20), coffee houses, carry out & take away, bar, and more expensive restaurants (\\\\$20 - \\\\$50). "
   ]
  },
  {
   "cell_type": "markdown",
   "metadata": {},
   "source": [
    "**Deliverables**\n",
    "\n",
    "Your final product should be a brief report that highlights the differences between customers who did and did not accept the coupons.  To explore the data you will utilize your knowledge of plotting, statistical summaries, and visualization using Python. You will publish your findings in a public facing github repository as your first portfolio piece. \n",
    "\n",
    "\n",
    "\n"
   ]
  },
  {
   "cell_type": "markdown",
   "metadata": {},
   "source": [
    "### Data Description\n",
    "Keep in mind that these values mentioned below are average values.\n",
    "\n",
    "The attributes of this data set include:\n",
    "1. User attributes\n",
    "    -  Gender: male, female\n",
    "    -  Age: below 21, 21 to 25, 26 to 30, etc.\n",
    "    -  Marital Status: single, married partner, unmarried partner, or widowed\n",
    "    -  Number of children: 0, 1, or more than 1\n",
    "    -  Education: high school, bachelors degree, associates degree, or graduate degree\n",
    "    -  Occupation: architecture & engineering, business & financial, etc.\n",
    "    -  Annual income: less than \\\\$12500, \\\\$12500 - \\\\$24999, \\\\$25000 - \\\\$37499, etc.\n",
    "    -  Number of times that he/she goes to a bar: 0, less than 1, 1 to 3, 4 to 8 or greater than 8\n",
    "    -  Number of times that he/she buys takeaway food: 0, less than 1, 1 to 3, 4 to 8 or greater\n",
    "    than 8\n",
    "    -  Number of times that he/she goes to a coffee house: 0, less than 1, 1 to 3, 4 to 8 or\n",
    "    greater than 8\n",
    "    -  Number of times that he/she eats at a restaurant with average expense less than \\\\$20 per\n",
    "    person: 0, less than 1, 1 to 3, 4 to 8 or greater than 8\n",
    "    -  Number of times that he/she goes to a bar: 0, less than 1, 1 to 3, 4 to 8 or greater than 8\n",
    "    \n",
    "\n",
    "2. Contextual attributes\n",
    "    - Driving destination: home, work, or no urgent destination\n",
    "    - Location of user, coupon and destination: we provide a map to show the geographical\n",
    "    location of the user, destination, and the venue, and we mark the distance between each\n",
    "    two places with time of driving. The user can see whether the venue is in the same\n",
    "    direction as the destination.\n",
    "    - Weather: sunny, rainy, or snowy\n",
    "    - Temperature: 30F, 55F, or 80F\n",
    "    - Time: 10AM, 2PM, or 6PM\n",
    "    - Passenger: alone, partner, kid(s), or friend(s)\n",
    "\n",
    "\n",
    "3. Coupon attributes\n",
    "    - time before it expires: 2 hours or one day"
   ]
  },
  {
   "cell_type": "code",
   "execution_count": 245,
   "metadata": {},
   "outputs": [],
   "source": [
    "import matplotlib.pyplot as plt\n",
    "import seaborn as sns\n",
    "import pandas as pd\n",
    "import numpy as np"
   ]
  },
  {
   "cell_type": "markdown",
   "metadata": {},
   "source": [
    "### Problems\n",
    "\n",
    "Use the prompts below to get started with your data analysis.  \n",
    "\n",
    "1. Read in the `coupons.csv` file.\n",
    "\n",
    "\n"
   ]
  },
  {
   "cell_type": "code",
   "execution_count": 246,
   "metadata": {},
   "outputs": [],
   "source": [
    "data = pd.read_csv('data/coupons.csv')"
   ]
  },
  {
   "cell_type": "code",
   "execution_count": 247,
   "metadata": {},
   "outputs": [
    {
     "data": {
      "text/html": [
       "<div>\n",
       "<style scoped>\n",
       "    .dataframe tbody tr th:only-of-type {\n",
       "        vertical-align: middle;\n",
       "    }\n",
       "\n",
       "    .dataframe tbody tr th {\n",
       "        vertical-align: top;\n",
       "    }\n",
       "\n",
       "    .dataframe thead th {\n",
       "        text-align: right;\n",
       "    }\n",
       "</style>\n",
       "<table border=\"1\" class=\"dataframe\">\n",
       "  <thead>\n",
       "    <tr style=\"text-align: right;\">\n",
       "      <th></th>\n",
       "      <th>destination</th>\n",
       "      <th>passanger</th>\n",
       "      <th>weather</th>\n",
       "      <th>temperature</th>\n",
       "      <th>time</th>\n",
       "      <th>coupon</th>\n",
       "      <th>expiration</th>\n",
       "      <th>gender</th>\n",
       "      <th>age</th>\n",
       "      <th>maritalStatus</th>\n",
       "      <th>...</th>\n",
       "      <th>CoffeeHouse</th>\n",
       "      <th>CarryAway</th>\n",
       "      <th>RestaurantLessThan20</th>\n",
       "      <th>Restaurant20To50</th>\n",
       "      <th>toCoupon_GEQ5min</th>\n",
       "      <th>toCoupon_GEQ15min</th>\n",
       "      <th>toCoupon_GEQ25min</th>\n",
       "      <th>direction_same</th>\n",
       "      <th>direction_opp</th>\n",
       "      <th>Y</th>\n",
       "    </tr>\n",
       "  </thead>\n",
       "  <tbody>\n",
       "    <tr>\n",
       "      <th>0</th>\n",
       "      <td>No Urgent Place</td>\n",
       "      <td>Alone</td>\n",
       "      <td>Sunny</td>\n",
       "      <td>55</td>\n",
       "      <td>2PM</td>\n",
       "      <td>Restaurant(&lt;20)</td>\n",
       "      <td>1d</td>\n",
       "      <td>Female</td>\n",
       "      <td>21</td>\n",
       "      <td>Unmarried partner</td>\n",
       "      <td>...</td>\n",
       "      <td>never</td>\n",
       "      <td>NaN</td>\n",
       "      <td>4~8</td>\n",
       "      <td>1~3</td>\n",
       "      <td>1</td>\n",
       "      <td>0</td>\n",
       "      <td>0</td>\n",
       "      <td>0</td>\n",
       "      <td>1</td>\n",
       "      <td>1</td>\n",
       "    </tr>\n",
       "    <tr>\n",
       "      <th>1</th>\n",
       "      <td>No Urgent Place</td>\n",
       "      <td>Friend(s)</td>\n",
       "      <td>Sunny</td>\n",
       "      <td>80</td>\n",
       "      <td>10AM</td>\n",
       "      <td>Coffee House</td>\n",
       "      <td>2h</td>\n",
       "      <td>Female</td>\n",
       "      <td>21</td>\n",
       "      <td>Unmarried partner</td>\n",
       "      <td>...</td>\n",
       "      <td>never</td>\n",
       "      <td>NaN</td>\n",
       "      <td>4~8</td>\n",
       "      <td>1~3</td>\n",
       "      <td>1</td>\n",
       "      <td>0</td>\n",
       "      <td>0</td>\n",
       "      <td>0</td>\n",
       "      <td>1</td>\n",
       "      <td>0</td>\n",
       "    </tr>\n",
       "    <tr>\n",
       "      <th>2</th>\n",
       "      <td>No Urgent Place</td>\n",
       "      <td>Friend(s)</td>\n",
       "      <td>Sunny</td>\n",
       "      <td>80</td>\n",
       "      <td>10AM</td>\n",
       "      <td>Carry out &amp; Take away</td>\n",
       "      <td>2h</td>\n",
       "      <td>Female</td>\n",
       "      <td>21</td>\n",
       "      <td>Unmarried partner</td>\n",
       "      <td>...</td>\n",
       "      <td>never</td>\n",
       "      <td>NaN</td>\n",
       "      <td>4~8</td>\n",
       "      <td>1~3</td>\n",
       "      <td>1</td>\n",
       "      <td>1</td>\n",
       "      <td>0</td>\n",
       "      <td>0</td>\n",
       "      <td>1</td>\n",
       "      <td>1</td>\n",
       "    </tr>\n",
       "    <tr>\n",
       "      <th>3</th>\n",
       "      <td>No Urgent Place</td>\n",
       "      <td>Friend(s)</td>\n",
       "      <td>Sunny</td>\n",
       "      <td>80</td>\n",
       "      <td>2PM</td>\n",
       "      <td>Coffee House</td>\n",
       "      <td>2h</td>\n",
       "      <td>Female</td>\n",
       "      <td>21</td>\n",
       "      <td>Unmarried partner</td>\n",
       "      <td>...</td>\n",
       "      <td>never</td>\n",
       "      <td>NaN</td>\n",
       "      <td>4~8</td>\n",
       "      <td>1~3</td>\n",
       "      <td>1</td>\n",
       "      <td>1</td>\n",
       "      <td>0</td>\n",
       "      <td>0</td>\n",
       "      <td>1</td>\n",
       "      <td>0</td>\n",
       "    </tr>\n",
       "    <tr>\n",
       "      <th>4</th>\n",
       "      <td>No Urgent Place</td>\n",
       "      <td>Friend(s)</td>\n",
       "      <td>Sunny</td>\n",
       "      <td>80</td>\n",
       "      <td>2PM</td>\n",
       "      <td>Coffee House</td>\n",
       "      <td>1d</td>\n",
       "      <td>Female</td>\n",
       "      <td>21</td>\n",
       "      <td>Unmarried partner</td>\n",
       "      <td>...</td>\n",
       "      <td>never</td>\n",
       "      <td>NaN</td>\n",
       "      <td>4~8</td>\n",
       "      <td>1~3</td>\n",
       "      <td>1</td>\n",
       "      <td>1</td>\n",
       "      <td>0</td>\n",
       "      <td>0</td>\n",
       "      <td>1</td>\n",
       "      <td>0</td>\n",
       "    </tr>\n",
       "  </tbody>\n",
       "</table>\n",
       "<p>5 rows × 26 columns</p>\n",
       "</div>"
      ],
      "text/plain": [
       "       destination  passanger weather  temperature  time  \\\n",
       "0  No Urgent Place      Alone   Sunny           55   2PM   \n",
       "1  No Urgent Place  Friend(s)   Sunny           80  10AM   \n",
       "2  No Urgent Place  Friend(s)   Sunny           80  10AM   \n",
       "3  No Urgent Place  Friend(s)   Sunny           80   2PM   \n",
       "4  No Urgent Place  Friend(s)   Sunny           80   2PM   \n",
       "\n",
       "                  coupon expiration  gender age      maritalStatus  ...  \\\n",
       "0        Restaurant(<20)         1d  Female  21  Unmarried partner  ...   \n",
       "1           Coffee House         2h  Female  21  Unmarried partner  ...   \n",
       "2  Carry out & Take away         2h  Female  21  Unmarried partner  ...   \n",
       "3           Coffee House         2h  Female  21  Unmarried partner  ...   \n",
       "4           Coffee House         1d  Female  21  Unmarried partner  ...   \n",
       "\n",
       "   CoffeeHouse CarryAway RestaurantLessThan20 Restaurant20To50  \\\n",
       "0        never       NaN                  4~8              1~3   \n",
       "1        never       NaN                  4~8              1~3   \n",
       "2        never       NaN                  4~8              1~3   \n",
       "3        never       NaN                  4~8              1~3   \n",
       "4        never       NaN                  4~8              1~3   \n",
       "\n",
       "  toCoupon_GEQ5min toCoupon_GEQ15min toCoupon_GEQ25min direction_same  \\\n",
       "0                1                 0                 0              0   \n",
       "1                1                 0                 0              0   \n",
       "2                1                 1                 0              0   \n",
       "3                1                 1                 0              0   \n",
       "4                1                 1                 0              0   \n",
       "\n",
       "  direction_opp  Y  \n",
       "0             1  1  \n",
       "1             1  0  \n",
       "2             1  1  \n",
       "3             1  0  \n",
       "4             1  0  \n",
       "\n",
       "[5 rows x 26 columns]"
      ]
     },
     "execution_count": 247,
     "metadata": {},
     "output_type": "execute_result"
    }
   ],
   "source": [
    "data.head()"
   ]
  },
  {
   "cell_type": "code",
   "execution_count": 248,
   "metadata": {},
   "outputs": [
    {
     "name": "stdout",
     "output_type": "stream",
     "text": [
      "<class 'pandas.core.frame.DataFrame'>\n",
      "RangeIndex: 12684 entries, 0 to 12683\n",
      "Data columns (total 26 columns):\n",
      " #   Column                Non-Null Count  Dtype \n",
      "---  ------                --------------  ----- \n",
      " 0   destination           12684 non-null  object\n",
      " 1   passanger             12684 non-null  object\n",
      " 2   weather               12684 non-null  object\n",
      " 3   temperature           12684 non-null  int64 \n",
      " 4   time                  12684 non-null  object\n",
      " 5   coupon                12684 non-null  object\n",
      " 6   expiration            12684 non-null  object\n",
      " 7   gender                12684 non-null  object\n",
      " 8   age                   12684 non-null  object\n",
      " 9   maritalStatus         12684 non-null  object\n",
      " 10  has_children          12684 non-null  int64 \n",
      " 11  education             12684 non-null  object\n",
      " 12  occupation            12684 non-null  object\n",
      " 13  income                12684 non-null  object\n",
      " 14  car                   108 non-null    object\n",
      " 15  Bar                   12577 non-null  object\n",
      " 16  CoffeeHouse           12467 non-null  object\n",
      " 17  CarryAway             12533 non-null  object\n",
      " 18  RestaurantLessThan20  12554 non-null  object\n",
      " 19  Restaurant20To50      12495 non-null  object\n",
      " 20  toCoupon_GEQ5min      12684 non-null  int64 \n",
      " 21  toCoupon_GEQ15min     12684 non-null  int64 \n",
      " 22  toCoupon_GEQ25min     12684 non-null  int64 \n",
      " 23  direction_same        12684 non-null  int64 \n",
      " 24  direction_opp         12684 non-null  int64 \n",
      " 25  Y                     12684 non-null  int64 \n",
      "dtypes: int64(8), object(18)\n",
      "memory usage: 2.5+ MB\n"
     ]
    }
   ],
   "source": [
    "data.info()"
   ]
  },
  {
   "cell_type": "markdown",
   "metadata": {},
   "source": [
    "2. Investigate the dataset for missing or problematic data."
   ]
  },
  {
   "cell_type": "code",
   "execution_count": 249,
   "metadata": {},
   "outputs": [
    {
     "name": "stdout",
     "output_type": "stream",
     "text": [
      "destination                 0\n",
      "passanger                   0\n",
      "weather                     0\n",
      "temperature                 0\n",
      "time                        0\n",
      "coupon                      0\n",
      "expiration                  0\n",
      "gender                      0\n",
      "age                         0\n",
      "maritalStatus               0\n",
      "has_children                0\n",
      "education                   0\n",
      "occupation                  0\n",
      "income                      0\n",
      "car                     12576\n",
      "Bar                       107\n",
      "CoffeeHouse               217\n",
      "CarryAway                 151\n",
      "RestaurantLessThan20      130\n",
      "Restaurant20To50          189\n",
      "toCoupon_GEQ5min            0\n",
      "toCoupon_GEQ15min           0\n",
      "toCoupon_GEQ25min           0\n",
      "direction_same              0\n",
      "direction_opp               0\n",
      "Y                           0\n",
      "dtype: int64\n"
     ]
    }
   ],
   "source": [
    "#get the number of missing data points per column\n",
    "missing_values_count = data.isnull().sum()\n",
    "print(missing_values_count)"
   ]
  },
  {
   "cell_type": "markdown",
   "metadata": {},
   "source": [
    "3. Decide what to do about your missing data -- drop, replace, other..."
   ]
  },
  {
   "cell_type": "code",
   "execution_count": 250,
   "metadata": {},
   "outputs": [
    {
     "name": "stdout",
     "output_type": "stream",
     "text": [
      "<class 'pandas.core.frame.DataFrame'>\n",
      "Int64Index: 12079 entries, 22 to 12683\n",
      "Data columns (total 25 columns):\n",
      " #   Column                Non-Null Count  Dtype \n",
      "---  ------                --------------  ----- \n",
      " 0   destination           12079 non-null  object\n",
      " 1   passanger             12079 non-null  object\n",
      " 2   weather               12079 non-null  object\n",
      " 3   temperature           12079 non-null  int64 \n",
      " 4   time                  12079 non-null  object\n",
      " 5   coupon                12079 non-null  object\n",
      " 6   expiration            12079 non-null  object\n",
      " 7   gender                12079 non-null  object\n",
      " 8   age                   12079 non-null  object\n",
      " 9   maritalStatus         12079 non-null  object\n",
      " 10  has_children          12079 non-null  int64 \n",
      " 11  education             12079 non-null  object\n",
      " 12  occupation            12079 non-null  object\n",
      " 13  income                12079 non-null  object\n",
      " 14  Bar                   12079 non-null  object\n",
      " 15  CoffeeHouse           12079 non-null  object\n",
      " 16  CarryAway             12079 non-null  object\n",
      " 17  RestaurantLessThan20  12079 non-null  object\n",
      " 18  Restaurant20To50      12079 non-null  object\n",
      " 19  toCoupon_GEQ5min      12079 non-null  int64 \n",
      " 20  toCoupon_GEQ15min     12079 non-null  int64 \n",
      " 21  toCoupon_GEQ25min     12079 non-null  int64 \n",
      " 22  direction_same        12079 non-null  int64 \n",
      " 23  direction_opp         12079 non-null  int64 \n",
      " 24  Y                     12079 non-null  int64 \n",
      "dtypes: int64(8), object(17)\n",
      "memory usage: 2.4+ MB\n"
     ]
    }
   ],
   "source": [
    "#In this case, we may not drop the rows with missing data because we will lose a lot of data. 12576 (for car) /12684  at least 99% : of the data will be lost.\n",
    "#as car column has 99% missing data, we can drop it\n",
    "cleaned_data = data.drop(['car'], axis=1)\n",
    "#we can also drop the rows with missing data now as it is less than 1% of the data\n",
    "cleaned_data = cleaned_data.dropna()\n",
    "cleaned_data.isnull().sum()\n",
    "cleaned_data.info()"
   ]
  },
  {
   "cell_type": "markdown",
   "metadata": {},
   "source": [
    "3.1 Data Cleanning : Cleaning Categorisation list"
   ]
  },
  {
   "cell_type": "code",
   "execution_count": 251,
   "metadata": {},
   "outputs": [
    {
     "name": "stdout",
     "output_type": "stream",
     "text": [
      "destination : ['Home' 'No Urgent Place' 'Work']\n",
      "passanger : ['Alone' 'Friend(s)' 'Kid(s)' 'Partner']\n",
      "weather : ['Rainy' 'Snowy' 'Sunny']\n",
      "temperature : [30 55 80]\n",
      "time : ['10AM' '10PM' '2PM' '6PM' '7AM']\n",
      "coupon : ['Bar' 'Carry out & Take away' 'Coffee House' 'Restaurant(20-50)'\n",
      " 'Restaurant(<20)']\n",
      "expiration : ['1d' '2h']\n",
      "gender : ['Female' 'Male']\n",
      "age : ['21' '26' '31' '36' '41' '46' '50plus' 'below21']\n",
      "maritalStatus : ['Divorced' 'Married partner' 'Single' 'Unmarried partner' 'Widowed']\n",
      "has_children : [0 1]\n",
      "education : ['Associates degree' 'Bachelors degree'\n",
      " 'Graduate degree (Masters or Doctorate)' 'High School Graduate'\n",
      " 'Some High School' 'Some college - no degree']\n",
      "occupation : ['Architecture & Engineering' 'Arts Design Entertainment Sports & Media'\n",
      " 'Building & Grounds Cleaning & Maintenance' 'Business & Financial'\n",
      " 'Community & Social Services' 'Computer & Mathematical'\n",
      " 'Construction & Extraction' 'Education&Training&Library'\n",
      " 'Farming Fishing & Forestry' 'Food Preparation & Serving Related'\n",
      " 'Healthcare Practitioners & Technical' 'Healthcare Support'\n",
      " 'Installation Maintenance & Repair' 'Legal'\n",
      " 'Life Physical Social Science' 'Management'\n",
      " 'Office & Administrative Support' 'Personal Care & Service'\n",
      " 'Production Occupations' 'Protective Service' 'Retired' 'Sales & Related'\n",
      " 'Student' 'Transportation & Material Moving' 'Unemployed']\n",
      "income : ['$100000 or More' '$12500 - $24999' '$25000 - $37499' '$37500 - $49999'\n",
      " '$50000 - $62499' '$62500 - $74999' '$75000 - $87499' '$87500 - $99999'\n",
      " 'Less than $12500']\n",
      "Bar : ['1~3' '4~8' 'gt8' 'less1' 'never']\n",
      "CoffeeHouse : ['1~3' '4~8' 'gt8' 'less1' 'never']\n",
      "CarryAway : ['1~3' '4~8' 'gt8' 'less1' 'never']\n",
      "RestaurantLessThan20 : ['1~3' '4~8' 'gt8' 'less1' 'never']\n",
      "Restaurant20To50 : ['1~3' '4~8' 'gt8' 'less1' 'never']\n",
      "toCoupon_GEQ5min : [1]\n",
      "toCoupon_GEQ15min : [0 1]\n",
      "toCoupon_GEQ25min : [0 1]\n",
      "direction_same : [0 1]\n",
      "direction_opp : [0 1]\n",
      "Y : [0 1]\n"
     ]
    }
   ],
   "source": [
    "#check for mispellings data or any other issues\n",
    "for col in cleaned_data.columns:\n",
    "    print(col + ' : ' + str(cleaned_data[col].sort_values().unique()))"
   ]
  },
  {
   "cell_type": "code",
   "execution_count": 252,
   "metadata": {},
   "outputs": [],
   "source": [
    "#time column : it can be converted to integral value and can be used for analysis and sorting\n",
    "cleaned_data['time'] = cleaned_data['time'].str.replace('2PM', '14')\n",
    "cleaned_data['time'] = cleaned_data['time'].str.replace('10AM', '10')\n",
    "cleaned_data['time'] = cleaned_data['time'].str.replace('6PM', '18')\n",
    "cleaned_data['time'] = cleaned_data['time'].str.replace('7AM', '07')\n",
    "cleaned_data['time'] = cleaned_data['time'].str.replace('10PM', '22')\n",
    "# - convert time to integer    \n",
    "cleaned_data['time'] = cleaned_data['time'].astype(int)\n"
   ]
  },
  {
   "cell_type": "code",
   "execution_count": 253,
   "metadata": {},
   "outputs": [],
   "source": [
    "#expiration  can be converted to integral value as an hour duration \n",
    "cleaned_data['expiration'] = cleaned_data['expiration'].str.replace('1d', '24')\n",
    "cleaned_data['expiration'] = cleaned_data['expiration'].str.replace('2h', '2')\n",
    "# - convert expiration to integer\n",
    "cleaned_data['expiration'] = cleaned_data['expiration'].astype(int)"
   ]
  },
  {
   "cell_type": "code",
   "execution_count": 254,
   "metadata": {},
   "outputs": [],
   "source": [
    "#occupation  as a misspelling issue\n",
    "cleaned_data['occupation'] = cleaned_data['occupation'].str.replace('Education&Training&Library', 'Education & Training & Library')"
   ]
  },
  {
   "cell_type": "code",
   "execution_count": 255,
   "metadata": {},
   "outputs": [],
   "source": [
    "#toCoupon_GEQ5min as only 1 value, it is not useful for the analysis\n",
    "cleaned_data = cleaned_data.drop(['toCoupon_GEQ5min'], axis=1)"
   ]
  },
  {
   "cell_type": "code",
   "execution_count": 256,
   "metadata": {},
   "outputs": [
    {
     "name": "stdout",
     "output_type": "stream",
     "text": [
      "income_min : [     0  12500  25000  37500  50000  62500  75000  87500 100000]\n"
     ]
    }
   ],
   "source": [
    "#income : we create a new column to categorize the income using intervals minimum values\n",
    "cleaned_data['income_min'] =cleaned_data['income'] \n",
    "#'$100000 or More' '$12500 - $24999' '$25000 - $37499' '$37500 - $49999'\n",
    "#'$50000 - $62499' '$62500 - $74999' '$75000 - $87499' '$87500 - $99999'\n",
    "#'Less than $12500'\n",
    "cleaned_data['income_min'] = cleaned_data['income_min'].str.replace('Less than $12500', '0', regex=False) \n",
    "cleaned_data['income_min'] =cleaned_data['income_min'].str.replace('$12500 - $24999', '12500', regex=False)  \n",
    "cleaned_data['income_min'] =cleaned_data['income_min'].str.replace('$25000 - $37499', '25000', regex=False)\n",
    "cleaned_data['income_min'] =cleaned_data['income_min'].str.replace('$37500 - $49999', '37500', regex=False)\n",
    "cleaned_data['income_min'] =cleaned_data['income_min'].str.replace('$50000 - $62499', '50000', regex=False)\n",
    "cleaned_data['income_min'] =cleaned_data['income_min'].str.replace('$62500 - $74999', '62500', regex=False)\n",
    "cleaned_data['income_min'] =cleaned_data['income_min'].str.replace('$75000 - $87499', '75000', regex=False)\n",
    "cleaned_data['income_min'] =cleaned_data['income_min'].str.replace('$87500 - $99999', '87500', regex=False)\n",
    "cleaned_data['income_min'] =cleaned_data['income_min'].str.replace('$100000 or More', '100000', regex=False)\n",
    "cleaned_data['income_min'] =cleaned_data['income_min'].str.replace(' ', '', regex=True)\n",
    "cleaned_data['income_min'] =cleaned_data['income_min'].astype(int)\n",
    "print('income_min : ' + str(cleaned_data['income_min'].sort_values().unique()))"
   ]
  },
  {
   "cell_type": "code",
   "execution_count": 257,
   "metadata": {},
   "outputs": [],
   "source": [
    "#Bar, CoffeeHouse, CarryAway, RestaurantLessThan20, Restaurant20To50 : we create a new columns to categorize thos values\n",
    "#Bar : ['1~3' '4~8' 'gt8' 'less1' 'never']\n",
    "#CoffeeHouse : ['1~3' '4~8' 'gt8' 'less1' 'never']\n",
    "#CarryAway : ['1~3' '4~8' 'gt8' 'less1' 'never']\n",
    "#RestaurantLessThan20 : ['1~3' '4~8' 'gt8' 'less1' 'never']\n",
    "#Restaurant20To50 : ['1~3' '4~8' 'gt8' 'less1' 'never']\n",
    "\n",
    "def replace_and_convert(column, replac):    \n",
    "    newName = 'code_'+column \n",
    "    cleaned_data[newName] = cleaned_data[column].replace(replac)\n",
    "    cleaned_data[newName] = cleaned_data[newName].astype(int)\n",
    "replacements = {'never': '0', 'less1': '1', '1~3': '2', '4~8': '3', 'gt8': '4'}\n",
    "\n",
    "replace_and_convert('Bar', replacements)\n",
    "replace_and_convert('CoffeeHouse', replacements)\n",
    "replace_and_convert('CarryAway', replacements)\n",
    "replace_and_convert('RestaurantLessThan20', replacements)\n",
    "replace_and_convert('Restaurant20To50', replacements)"
   ]
  },
  {
   "cell_type": "code",
   "execution_count": 258,
   "metadata": {},
   "outputs": [
    {
     "name": "stdout",
     "output_type": "stream",
     "text": [
      "<class 'pandas.core.frame.DataFrame'>\n",
      "Int64Index: 12079 entries, 22 to 12683\n",
      "Data columns (total 30 columns):\n",
      " #   Column                     Non-Null Count  Dtype \n",
      "---  ------                     --------------  ----- \n",
      " 0   destination                12079 non-null  object\n",
      " 1   passanger                  12079 non-null  object\n",
      " 2   weather                    12079 non-null  object\n",
      " 3   temperature                12079 non-null  int64 \n",
      " 4   time                       12079 non-null  int32 \n",
      " 5   coupon                     12079 non-null  object\n",
      " 6   expiration                 12079 non-null  int32 \n",
      " 7   gender                     12079 non-null  object\n",
      " 8   age                        12079 non-null  object\n",
      " 9   maritalStatus              12079 non-null  object\n",
      " 10  has_children               12079 non-null  int64 \n",
      " 11  education                  12079 non-null  object\n",
      " 12  occupation                 12079 non-null  object\n",
      " 13  income                     12079 non-null  object\n",
      " 14  Bar                        12079 non-null  object\n",
      " 15  CoffeeHouse                12079 non-null  object\n",
      " 16  CarryAway                  12079 non-null  object\n",
      " 17  RestaurantLessThan20       12079 non-null  object\n",
      " 18  Restaurant20To50           12079 non-null  object\n",
      " 19  toCoupon_GEQ15min          12079 non-null  int64 \n",
      " 20  toCoupon_GEQ25min          12079 non-null  int64 \n",
      " 21  direction_same             12079 non-null  int64 \n",
      " 22  direction_opp              12079 non-null  int64 \n",
      " 23  Y                          12079 non-null  int64 \n",
      " 24  income_min                 12079 non-null  int32 \n",
      " 25  code_Bar                   12079 non-null  int32 \n",
      " 26  code_CoffeeHouse           12079 non-null  int32 \n",
      " 27  code_CarryAway             12079 non-null  int32 \n",
      " 28  code_RestaurantLessThan20  12079 non-null  int32 \n",
      " 29  code_Restaurant20To50      12079 non-null  int32 \n",
      "dtypes: int32(8), int64(7), object(15)\n",
      "memory usage: 2.5+ MB\n"
     ]
    }
   ],
   "source": [
    "cleaned_data.info()"
   ]
  },
  {
   "cell_type": "markdown",
   "metadata": {},
   "source": [
    "4. What proportion of the total observations chose to accept the coupon? \n",
    "\n"
   ]
  },
  {
   "cell_type": "code",
   "execution_count": 259,
   "metadata": {},
   "outputs": [
    {
     "name": "stdout",
     "output_type": "stream",
     "text": [
      "Proprtion : 0.5693352098683666\n",
      "Percentage : 56.93%\n"
     ]
    }
   ],
   "source": [
    "nb_yes = cleaned_data.query(\"Y==1\")[\"Y\"].count()\n",
    "nb_no = cleaned_data.query(\"Y==0\")[\"Y\"].count()\n",
    "total = cleaned_data[\"Y\"].count()\n",
    "proportion_yes = nb_yes/total\n",
    "percent_yes = round(proportion_yes*100,2)\n",
    "\n",
    "print('Proprtion : ' + str(proportion_yes))\n",
    "print('Percentage : ' +  str(percent_yes)+'%')\n"
   ]
  },
  {
   "cell_type": "markdown",
   "metadata": {},
   "source": [
    "5. Use a bar plot to visualize the `coupon` column."
   ]
  },
  {
   "cell_type": "code",
   "execution_count": 265,
   "metadata": {},
   "outputs": [
    {
     "data": {
      "image/png": "[encoded data removed]",
      "text/plain": [
       "<Figure size 640x480 with 1 Axes>"
      ]
     },
     "metadata": {},
     "output_type": "display_data"
    }
   ],
   "source": [
    "#prepare data for the plot\n",
    "df_coupons = cleaned_data[\"coupon\"].value_counts()\n",
    "df_coupons = pd.DataFrame(df_coupons.reset_index())\n",
    "df_coupons.rename(columns={'index': 'Name'}, inplace=True)\n",
    "df_coupons.rename(columns={'coupon': 'Count'}, inplace=True)\n",
    "#plot the data\n",
    "sns.barplot(x='Name', y=\"Count\",data=df_coupons,edgecolor=\"lightblue\", linewidth=2, hue=  'Name', palette=\"Blues_d\")\n",
    "plt.title('Coupon Distribution\\'s')\n",
    "plt.xlabel('')\n",
    "plt.ylabel('Counts')\n",
    "plt.xticks(rotation = 45)\n",
    "#save the plot\n",
    "plt.savefig('img/coupon_distribution.png')\n",
    "plt.show()\n"
   ]
  },
  {
   "cell_type": "markdown",
   "metadata": {},
   "source": [
    "6. Use a histogram to visualize the temperature column."
   ]
  },
  {
   "cell_type": "code",
   "execution_count": 266,
   "metadata": {},
   "outputs": [
    {
     "data": {
      "image/png": "[encoded data removed]",
      "text/plain": [
       "<Figure size 640x480 with 1 Axes>"
      ]
     },
     "metadata": {},
     "output_type": "display_data"
    }
   ],
   "source": [
    "sns.histplot(data['temperature'],color=\"red\", kde=True, bins=20)\n",
    "plt.title('Temperatures')\n",
    "plt.xlabel('Fahrenheit')\n",
    "plt.ylabel('')\n",
    "plt.savefig('img/temperatures_histogram.png')"
   ]
  },
  {
   "cell_type": "code",
   "execution_count": null,
   "metadata": {},
   "outputs": [],
   "source": []
  },
  {
   "cell_type": "code",
   "execution_count": null,
   "metadata": {},
   "outputs": [],
   "source": []
  },
  {
   "cell_type": "code",
   "execution_count": null,
   "metadata": {},
   "outputs": [],
   "source": []
  },
  {
   "cell_type": "code",
   "execution_count": null,
   "metadata": {},
   "outputs": [],
   "source": []
  },
  {
   "cell_type": "markdown",
   "metadata": {},
   "source": [
    "**Investigating the Bar Coupons**\n",
    "\n",
    "Now, we will lead you through an exploration of just the bar related coupons.  \n",
    "\n",
    "1. Create a new `DataFrame` that contains just the bar coupons.\n"
   ]
  },
  {
   "cell_type": "code",
   "execution_count": null,
   "metadata": {},
   "outputs": [],
   "source": []
  },
  {
   "cell_type": "markdown",
   "metadata": {},
   "source": [
    "2. What proportion of bar coupons were accepted?\n"
   ]
  },
  {
   "cell_type": "code",
   "execution_count": null,
   "metadata": {},
   "outputs": [],
   "source": []
  },
  {
   "cell_type": "markdown",
   "metadata": {},
   "source": [
    "3. Compare the acceptance rate between those who went to a bar 3 or fewer times a month to those who went more.\n"
   ]
  },
  {
   "cell_type": "code",
   "execution_count": null,
   "metadata": {},
   "outputs": [],
   "source": []
  },
  {
   "cell_type": "markdown",
   "metadata": {},
   "source": [
    "4. Compare the acceptance rate between drivers who go to a bar more than once a month and are over the age of 25 to the all others.  Is there a difference?\n"
   ]
  },
  {
   "cell_type": "code",
   "execution_count": null,
   "metadata": {},
   "outputs": [],
   "source": []
  },
  {
   "cell_type": "markdown",
   "metadata": {},
   "source": [
    "5. Use the same process to compare the acceptance rate between drivers who go to bars more than once a month and had passengers that were not a kid and had occupations other than farming, fishing, or forestry. \n"
   ]
  },
  {
   "cell_type": "code",
   "execution_count": null,
   "metadata": {},
   "outputs": [],
   "source": []
  },
  {
   "cell_type": "markdown",
   "metadata": {},
   "source": [
    "6. Compare the acceptance rates between those drivers who:\n",
    "\n",
    "- go to bars more than once a month, had passengers that were not a kid, and were not widowed *OR*\n",
    "- go to bars more than once a month and are under the age of 30 *OR*\n",
    "- go to cheap restaurants more than 4 times a month and income is less than 50K. \n",
    "\n"
   ]
  },
  {
   "cell_type": "code",
   "execution_count": null,
   "metadata": {},
   "outputs": [],
   "source": []
  },
  {
   "cell_type": "markdown",
   "metadata": {},
   "source": [
    "7.  Based on these observations, what do you hypothesize about drivers who accepted the bar coupons?"
   ]
  },
  {
   "cell_type": "code",
   "execution_count": null,
   "metadata": {},
   "outputs": [],
   "source": []
  },
  {
   "cell_type": "markdown",
   "metadata": {},
   "source": [
    "### Independent Investigation\n",
    "\n",
    "Using the bar coupon example as motivation, you are to explore one of the other coupon groups and try to determine the characteristics of passengers who accept the coupons.  "
   ]
  },
  {
   "cell_type": "code",
   "execution_count": null,
   "metadata": {},
   "outputs": [],
   "source": []
  },
  {
   "cell_type": "code",
   "execution_count": null,
   "metadata": {},
   "outputs": [],
   "source": []
  },
  {
   "cell_type": "code",
   "execution_count": null,
   "metadata": {},
   "outputs": [],
   "source": []
  },
  {
   "cell_type": "code",
   "execution_count": null,
   "metadata": {},
   "outputs": [],
   "source": []
  },
  {
   "cell_type": "code",
   "execution_count": null,
   "metadata": {},
   "outputs": [],
   "source": []
  }
 ],
 "metadata": {
  "kernelspec": {
   "display_name": "Python 3",
   "language": "python",
   "name": "python3"
  },
  "language_info": {
   "codemirror_mode": {
    "name": "ipython",
    "version": 3
   },
   "file_extension": ".py",
   "mimetype": "text/x-python",
   "name": "python",
   "nbconvert_exporter": "python",
   "pygments_lexer": "ipython3",
   "version": "3.11.3"
  },
  "widgets": {
   "application/vnd.jupyter.widget-state+json": {
    "state": {},
    "version_major": 2,
    "version_minor": 0
   }
  }
 },
 "nbformat": 4,
 "nbformat_minor": 4
}
